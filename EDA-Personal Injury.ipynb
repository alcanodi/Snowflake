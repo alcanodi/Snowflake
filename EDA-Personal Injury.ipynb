{
 "cells": [
  {
   "cell_type": "markdown",
   "metadata": {},
   "source": [
    "INSTALL DEPENDENCIES"
   ]
  },
  {
   "cell_type": "code",
   "execution_count": null,
   "metadata": {},
   "outputs": [],
   "source": [
    "'''\n",
    "!pip install ydata-profiling\n",
    "!pip install ipywidgets\n",
    "!pip install pandas openpyxl\n",
    "'''"
   ]
  },
  {
   "cell_type": "markdown",
   "metadata": {},
   "source": [
    "IMPORT LIBRARIES"
   ]
  },
  {
   "cell_type": "code",
   "execution_count": 1,
   "metadata": {},
   "outputs": [],
   "source": [
    "import pandas as pd"
   ]
  },
  {
   "cell_type": "markdown",
   "metadata": {},
   "source": [
    "Read Excel"
   ]
  },
  {
   "cell_type": "code",
   "execution_count": 3,
   "metadata": {},
   "outputs": [
    {
     "name": "stdout",
     "output_type": "stream",
     "text": [
      "   VISITID Admit Date Discharge Date                 INSURANCEPACKAGENAME  \\\n",
      "0   319221 2023-01-01     2023-01-06            BCBS-TX: BCBS OF TX (PPO)   \n",
      "1   319234 2023-01-01     2023-01-01            BCBS-TX: BCBS OF TX (PPO)   \n",
      "2   319225 2023-01-01     2023-01-01                           *SELF PAY*   \n",
      "3   319222 2023-01-01     2023-01-03  CENTENE - AMBETTER OF ALABAMA (EPO)   \n",
      "4   319231 2023-01-01     2023-01-04     MEDICARE B-TX: NOVITAS SOLUTIONS   \n",
      "\n",
      "         IRCGROUP   DEPARTMENTNAME  Total Charges         LOB FACILITY  Week  \\\n",
      "0            Blue   ADHC 5th Floor      217255.55  Commercial     ADHC     1   \n",
      "1            Blue          ROHC ED        9636.00  Commercial     ROHC     1   \n",
      "2        Self-Pay     ROHC PAT/LAB        1600.00  Commercial     ROHC     1   \n",
      "3      Commercial  ROHC MedSurg IP       15050.00  Commercial     ROHC     1   \n",
      "4  Medicare B/DME  EHHC MedSurg IP          50.00  Commercial     EHHC     1   \n",
      "\n",
      "   Year  Month Location       Dept Qtr  \n",
      "0  2023      1   Dallas  Inpatient  Q1  \n",
      "1  2023      1  Houston         ED  Q1  \n",
      "2  2023      1  Houston    Pat/LAB  Q1  \n",
      "3  2023      1  Houston  Inpatient  Q1  \n",
      "4  2023      1  Houston  Inpatient  Q1  \n"
     ]
    }
   ],
   "source": [
    "import pandas as pd \n",
    "\n",
    "df = pd.read_excel(r'C:\\Users\\a.canod\\OneDrive - AD Healthcare\\General - Analytics Department\\95 Alberto Temp\\Personal injury Review\\Personal Injury Review.xlsx', sheet_name='Visit Volumes - MONDAYS')\n",
    "print(df.head()) "
   ]
  },
  {
   "cell_type": "markdown",
   "metadata": {},
   "source": [
    "EDA FOR LOP"
   ]
  },
  {
   "cell_type": "code",
   "execution_count": null,
   "metadata": {},
   "outputs": [],
   "source": [
    "from pandas_profiling import ProfileReport\n",
    "profile = ProfileReport(df, title=\"EDA report\")\n",
    "profile.to_notebook_iframe()"
   ]
  },
  {
   "cell_type": "code",
   "execution_count": 6,
   "metadata": {},
   "outputs": [
    {
     "data": {
      "application/vnd.jupyter.widget-view+json": {
       "model_id": "10b0736374a542abbf3b2d55f6228c62",
       "version_major": 2,
       "version_minor": 0
      },
      "text/plain": [
       "Export report to file:   0%|          | 0/1 [00:00<?, ?it/s]"
      ]
     },
     "metadata": {},
     "output_type": "display_data"
    }
   ],
   "source": [
    "profile.to_file(r'C:\\Users\\a.canod\\OneDrive - AD Healthcare\\General - Analytics Department\\95 Alberto Temp\\Personal injury Review\\Personal injury Report EDA.html')"
   ]
  }
 ],
 "metadata": {
  "kernelspec": {
   "display_name": "acd",
   "language": "python",
   "name": "python3"
  },
  "language_info": {
   "codemirror_mode": {
    "name": "ipython",
    "version": 3
   },
   "file_extension": ".py",
   "mimetype": "text/x-python",
   "name": "python",
   "nbconvert_exporter": "python",
   "pygments_lexer": "ipython3",
   "version": "3.12.2"
  }
 },
 "nbformat": 4,
 "nbformat_minor": 2
}
