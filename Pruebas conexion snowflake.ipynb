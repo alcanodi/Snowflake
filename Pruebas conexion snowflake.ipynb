{
 "cells": [
  {
   "cell_type": "code",
   "execution_count": null,
   "metadata": {},
   "outputs": [],
   "source": [
    "import configparser\n",
    "import snowflake.connector\n",
    "from snowflake.connector.pandas_tools import write_pandas"
   ]
  },
  {
   "cell_type": "code",
   "execution_count": null,
   "metadata": {},
   "outputs": [],
   "source": [
    "config = configparser.ConfigParser()\n",
    "config.read(r\"C:\\Users\\a.canod\\OneDrive - Solvo Global SAS\\Documentos\\athenahealth\\snowflake\\Snowflake\\settings - Copy.ini\") # Update '' with the settings file path\n",
    "snowflake_table = 'Table name in SF to update' # Place the table name in SF to be updated"
   ]
  },
  {
   "cell_type": "code",
   "execution_count": null,
   "metadata": {},
   "outputs": [],
   "source": [
    "conn = snowflake.connector.connect(\n",
    "    account=config[\"snowflake\"][\"account\"],\n",
    "    user=config[\"snowflake\"][\"user\"],\n",
    "    password=config[\"snowflake\"][\"password\"],\n",
    "    database=config[\"snowflake\"][\"database\"],\n",
    "    warehouse=config[\"snowflake\"][\"warehouse\"],\n",
    "    schema=config[\"snowflake\"][\"schema\"])"
   ]
  }
 ],
 "metadata": {
  "kernelspec": {
   "display_name": "Python 3",
   "language": "python",
   "name": "python3"
  },
  "language_info": {
   "codemirror_mode": {
    "name": "ipython",
    "version": 3
   },
   "file_extension": ".py",
   "mimetype": "text/x-python",
   "name": "python",
   "nbconvert_exporter": "python",
   "pygments_lexer": "ipython3",
   "version": "3.11.8"
  }
 },
 "nbformat": 4,
 "nbformat_minor": 2
}
